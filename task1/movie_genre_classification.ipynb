{
  "cells": [
    {
      "cell_type": "code",
      "source": [
        "import pandas as pd\n",
        "from sklearn.feature_extraction.text import TfidfVectorizer\n",
        "from sklearn.model_selection import train_test_split\n",
        "from sklearn.naive_bayes import MultinomialNB\n",
        "from sklearn.metrics import accuracy_score\n",
        "train_file = '/content/train_data.txt'\n",
        "test_file = '/content/test_data.txt'\n",
        "train_df = pd.read_csv(train_file, sep=\":::\", names=[\"Title\", \"Category\", \"Details\"], engine=\"python\")\n",
        "test_df = pd.read_csv(test_file, sep=\":::\", names=[\"ID\", \"Title\", \"Details\"], engine=\"python\")\n",
        "train_df.dropna(subset=[\"Details\", \"Category\"], inplace=True)\n",
        "test_df.dropna(subset=[\"Details\"], inplace=True)\n",
        "train_df[\"Details\"] = train_df[\"Details\"].str.lower()\n",
        "test_df[\"Details\"] = test_df[\"Details\"].str.lower()\n",
        "tfidf_transformer = TfidfVectorizer(max_features=3000)\n",
        "X_features = tfidf_transformer.fit_transform(train_df[\"Details\"])\n",
        "X_test_features = tfidf_transformer.transform(test_df[\"Details\"])\n",
        "y_labels = train_df[\"Category\"]\n",
        "X_train, X_val, y_train, y_val = train_test_split(X_features, y_labels, test_size=0.25, random_state=123)\n",
        "nb_classifier = MultinomialNB()\n",
        "nb_classifier.fit(X_train, y_train)\n",
        "y_val_pred = nb_classifier.predict(X_val)\n",
        "validation_accuracy = accuracy_score(y_val, y_val_pred)\n",
        "print(f\"\\nValidation Accuracy: {validation_accuracy:.2f}\\n\")\n",
        "test_predictions = nb_classifier.predict(X_test_features)\n",
        "test_df[\"Predicted_Category\"] = test_predictions\n",
        "test_df.to_csv(\"/content/test-predictions.csv\", index=False)\n",
        "print(\"Predictions saved to 'test-predictions.csv'!\")"
      ],
      "metadata": {
        "colab": {
          "base_uri": "https://localhost:8080/"
        },
        "id": "rD0m8syieqo2",
        "outputId": "29cb6f8c-9bcc-4b55-e3c1-f96f3bfa15b9"
      },
      "execution_count": null,
      "outputs": [
        {
          "output_type": "stream",
          "name": "stdout",
          "text": [
            "\n",
            "Validation Accuracy: 0.50\n",
            "\n",
            "Predictions saved to 'test-predictions.csv'!\n"
          ]
        }
      ]
    }
  ],
  "metadata": {
    "colab": {
      "provenance": []
    },
    "kernelspec": {
      "display_name": "Python 3",
      "name": "python3"
    },
    "language_info": {
      "name": "python"
    }
  },
  "nbformat": 4,
  "nbformat_minor": 0
}