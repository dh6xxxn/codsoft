{
 "cells": [
  {
   "cell_type": "code",
   "execution_count": null,
   "metadata": {},
   "outputs": [],
   "source": [
    "import pandas as pd\n",
    "from sklearn.model_selection import train_test_split\n",
    "from sklearn.feature_extraction.text import TfidfVectorizer\n",
    "from sklearn.naive_bayes import MultinomialNB\n",
    "from sklearn.metrics import accuracy_score\n",
    "dataset = pd.read_csv('/content/spam.csv', encoding='latin-1')\n",
    "dataset = dataset[['v1', 'v2']]  \n",
    "dataset.columns = ['Category', 'Text'] \n",
    "dataset['Category'] = dataset['Category'].map({'ham': 0, 'spam': 1})\n",
    "messages = dataset['Text'] \n",
    "labels = dataset['Category'] \n",
    "messages_train, messages_test, labels_train, labels_test = train_test_split(\n",
    "    messages, labels, test_size=0.2, random_state=42\n",
    ")\n",
    "tfidf = TfidfVectorizer(max_features=3000, stop_words='english')  \n",
    "train_vectors = tfidf.fit_transform(messages_train) \n",
    "test_vectors = tfidf.transform(messages_test)  \n",
    "spam_detector = MultinomialNB()\n",
    "spam_detector.fit(train_vectors, labels_train)\n",
    "predictions = spam_detector.predict(test_vectors)  \n",
    "model_accuracy = accuracy_score(labels_test, predictions) \n",
    "print(\"Model Accuracy:\", model_accuracy)\n",
    "new_messages = [\n",
    "    \"Congratulations! You have won $1000. Click the link to claim your prize.\",\n",
    "    \"Hello, can we meet up tomorrow for the project discussion?\"\n",
    "]\n",
    "new_vectors = tfidf.transform(new_messages)  \n",
    "new_predictions = spam_detector.predict(new_vectors)  \n",
    "for msg, result in zip(new_messages, new_predictions):\n",
    "    print(\"\\nMessage:\", msg)\n",
    "    print(\"Predicted as:\", \"Spam\" if result == 1 else \"Ham\")\n"
   ]
  }
 ],
 "metadata": {
  "language_info": {
   "name": "python"
  }
 },
 "nbformat": 4,
 "nbformat_minor": 2
}
